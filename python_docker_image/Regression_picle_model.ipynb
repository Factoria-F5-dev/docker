{
  "nbformat": 4,
  "nbformat_minor": 0,
  "metadata": {
    "colab": {
      "provenance": []
    },
    "kernelspec": {
      "name": "python3",
      "display_name": "Python 3"
    },
    "language_info": {
      "name": "python"
    }
  },
  "cells": [
    {
      "cell_type": "code",
      "execution_count": null,
      "metadata": {
        "colab": {
          "base_uri": "https://localhost:8080/"
        },
        "id": "EhsjgtCPniZE",
        "outputId": "0702a2e3-9de9-4f74-bfec-21924554ab21"
      },
      "outputs": [
        {
          "output_type": "stream",
          "name": "stdout",
          "text": [
            "Mean Squared Error: 3.6969181435957483\n"
          ]
        }
      ],
      "source": [
        "import numpy as np\n",
        "import pandas as pd\n",
        "from sklearn.model_selection import train_test_split\n",
        "from sklearn.linear_model import LinearRegression\n",
        "from sklearn.metrics import mean_squared_error\n",
        "import pickle\n",
        "\n",
        "# Step 1: Create a simple dataset\n",
        "data = {\n",
        "    'Hours': [1.5, 2.5, 3.0, 4.5, 5.5, 6.1, 7.4, 8.3, 9.1, 10],\n",
        "    'Scores': [35, 42, 50, 58, 65, 68, 72, 78, 85, 90]\n",
        "}\n",
        "\n",
        "df = pd.DataFrame(data)\n",
        "\n",
        "# Step 2: Define features (X) and target (y)\n",
        "X = df[['Hours']]  # Feature (Hours)\n",
        "y = df['Scores']   # Target (Scores)\n",
        "\n",
        "# Step 3: Split the dataset into training and testing sets\n",
        "X_train, X_test, y_train, y_test = train_test_split(X, y, test_size=0.2, random_state=42)\n",
        "\n",
        "# Step 4: Create a Linear Regression model\n",
        "model = LinearRegression()\n",
        "\n",
        "# Step 5: Train the model\n",
        "model.fit(X_train, y_train)\n",
        "\n",
        "# Step 6: Make predictions\n",
        "y_pred = model.predict(X_test)\n",
        "\n",
        "# Step 7: Evaluate the model (mean squared error)\n",
        "mse = mean_squared_error(y_test, y_pred)\n",
        "print(f'Mean Squared Error: {mse}')\n"
      ]
    },
    {
      "cell_type": "code",
      "source": [
        "# Step 8: Save the trained model using pickle\n",
        "with open('linear_regression_model.pkl', 'wb') as file:\n",
        "    pickle.dump(model, file)\n",
        "\n",
        "print(\"Model saved successfully!\")"
      ],
      "metadata": {
        "colab": {
          "base_uri": "https://localhost:8080/"
        },
        "id": "BbUWU3TWnxSC",
        "outputId": "255b1b35-60ef-44e8-a399-32d7ce0a6450"
      },
      "execution_count": null,
      "outputs": [
        {
          "output_type": "stream",
          "name": "stdout",
          "text": [
            "Model saved successfully!\n"
          ]
        }
      ]
    },
    {
      "cell_type": "code",
      "source": [
        "# Load the model\n",
        "with open('linear_regression_model.pkl', 'rb') as file:\n",
        "    loaded_model = pickle.load(file)\n",
        "\n",
        "# Ask user for input (study hours)\n",
        "new_data = float(input(\"Enter the number of study hours: \"))\n",
        "\n",
        "# Reshape the input to a 2D array (needed by the model)\n",
        "new_data = np.array([[new_data]])  # Convert to a 2D array with shape (1, 1)\n",
        "\n",
        "# Predict the score using the loaded model\n",
        "predicted_score = loaded_model.predict(new_data)\n",
        "\n",
        "print(f'Predicted Score: {predicted_score[0]}')\n"
      ],
      "metadata": {
        "colab": {
          "base_uri": "https://localhost:8080/"
        },
        "id": "ADQrp7MioQgl",
        "outputId": "cb8ef82f-a4f1-4f9d-d6d3-06ca69727998"
      },
      "execution_count": null,
      "outputs": [
        {
          "output_type": "stream",
          "name": "stdout",
          "text": [
            "Enter the number of study hours: 7.0\n",
            "Predicted Score: 71.81399391568883\n"
          ]
        },
        {
          "output_type": "stream",
          "name": "stderr",
          "text": [
            "/usr/local/lib/python3.10/dist-packages/sklearn/base.py:465: UserWarning: X does not have valid feature names, but LinearRegression was fitted with feature names\n",
            "  warnings.warn(\n"
          ]
        }
      ]
    }
  ]
}